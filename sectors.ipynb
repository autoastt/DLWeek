{
 "cells": [
  {
   "cell_type": "code",
   "execution_count": 27,
   "id": "9fbfbad0-671f-49d9-8879-c7f79abd2396",
   "metadata": {},
   "outputs": [
    {
     "name": "stdout",
     "output_type": "stream",
     "text": [
      "Sectors in NASDAQ-100: ['Information Technology' 'Consumer Discretionary'\n",
      " 'Communication Services' 'Utilities' 'Health Care' 'Industrials' 'Energy'\n",
      " 'Consumer Staples' 'Real Estate' 'Materials' 'Financials']\n"
     ]
    }
   ],
   "source": [
    "import pandas as pd\n",
    "\n",
    "# Load NASDAQ-100 stock data\n",
    "df = pd.read_csv(\"./data/nasdaq100_stock_prices_plus_features.csv\", parse_dates=[\"date\"], index_col=0)\n",
    "df.set_index(\"date\", inplace=True)\n",
    "\n",
    "SELECTED_FEATURES = [\"open\", \"close\", \"high\", \"low\", \"volume\", \"sector\", \"ticker\",\n",
    "                     \"dollar_vol_1m\", \"return_21d\", \"return_21d_lag1\"]\n",
    "df = df[SELECTED_FEATURES].dropna()\n",
    "\n",
    "# Get unique sectors\n",
    "sectors = df[\"sector\"].unique()\n",
    "print(\"Sectors in NASDAQ-100:\", sectors)\n",
    "\n",
    "# Split data by sector\n",
    "sector_data = {sector: df[df[\"sector\"] == sector].drop(columns=[\"sector\"]) for sector in sectors}"
   ]
  },
  {
   "cell_type": "code",
   "execution_count": 30,
   "id": "9a527b87-5fe5-4a8a-b9c7-9f1cbf4ec218",
   "metadata": {},
   "outputs": [
    {
     "name": "stdout",
     "output_type": "stream",
     "text": [
      "Information Technology 41\n",
      "Consumer Discretionary 12\n",
      "Communication Services 11\n",
      "Utilities 4\n",
      "Health Care 10\n",
      "Industrials 11\n",
      "Energy 2\n",
      "Consumer Staples 7\n",
      "Real Estate 1\n",
      "Materials 1\n",
      "Financials 1\n"
     ]
    }
   ],
   "source": [
    "for sector in sectors:\n",
    "    print(sector, len(sector_data[sector][\"ticker\"].unique()))"
   ]
  },
  {
   "cell_type": "code",
   "execution_count": 18,
   "id": "6245540f-4f7a-4c8a-ac6b-a0bdd0a0ed75",
   "metadata": {},
   "outputs": [],
   "source": [
    "# import gymnasium as gym\n",
    "# import numpy as np\n",
    "# from gymnasium import spaces\n",
    "\n",
    "# class StockTradingEnv(gym.Env):\n",
    "#     def __init__(self, data, initial_balance=10000):\n",
    "#         super(StockTradingEnv, self).__init__()\n",
    "\n",
    "#         self.data = data\n",
    "#         self.current_step = 0\n",
    "#         self.initial_balance = initial_balance\n",
    "#         self.balance = initial_balance\n",
    "#         self.portfolio = 0\n",
    "#         self.done = False\n",
    "\n",
    "#         # Define action and observation space\n",
    "#         self.action_space = spaces.Discrete(3)  # Buy, Sell, Hold\n",
    "#         self.observation_space = spaces.Box(low=0, high=1, shape=(data.shape[1],), dtype=np.float32)\n",
    "\n",
    "#     def reset(self):\n",
    "#         self.current_step = 0\n",
    "#         self.balance = self.initial_balance\n",
    "#         self.portfolio = 0\n",
    "#         self.done = False\n",
    "#         return self.data.iloc[self.current_step].values\n",
    "\n",
    "#     def step(self, action):\n",
    "#         current_price = self.data.iloc[self.current_step][\"close\"]\n",
    "\n",
    "#         if action == 0:  # Buy\n",
    "#             shares_to_buy = self.balance // current_price\n",
    "#             self.balance -= shares_to_buy * current_price\n",
    "#             self.portfolio += shares_to_buy\n",
    "\n",
    "#         elif action == 1:  # Sell\n",
    "#             self.balance += self.portfolio * current_price\n",
    "#             self.portfolio = 0\n",
    "\n",
    "#         # Reward is total portfolio value\n",
    "#         portfolio_value = self.balance + (self.portfolio * current_price)\n",
    "#         reward = portfolio_value - self.initial_balance\n",
    "\n",
    "#         self.current_step += 1\n",
    "#         if self.current_step >= len(self.data) - 1:\n",
    "#             self.done = True\n",
    "\n",
    "#         return self.data.iloc[self.current_step].values, reward, self.done, {}"
   ]
  },
  {
   "cell_type": "code",
   "execution_count": null,
   "id": "da06b8f8-dc42-4057-8018-d17bb0c2932f",
   "metadata": {},
   "outputs": [],
   "source": [
    "# from stable_baselines3 import PPO\n",
    "\n",
    "# sector_models = {}\n",
    "\n",
    "# for sector, data in sector_train_data.items():\n",
    "#     print(f\"Training PPO model for sector: {sector}\")\n",
    "\n",
    "#     env = StockTradingEnv(data)\n",
    "#     model = PPO(\"MlpPolicy\", env, verbose=1)\n",
    "#     model.learn(total_timesteps=10000)\n",
    "\n",
    "#     sector_models[sector] = model\n",
    "#     model.save(f\"ppo_{sector}.zip\")\n"
   ]
  }
 ],
 "metadata": {
  "kernelspec": {
   "display_name": "Python 3 (ipykernel)",
   "language": "python",
   "name": "python3"
  },
  "language_info": {
   "codemirror_mode": {
    "name": "ipython",
    "version": 3
   },
   "file_extension": ".py",
   "mimetype": "text/x-python",
   "name": "python",
   "nbconvert_exporter": "python",
   "pygments_lexer": "ipython3",
   "version": "3.13.2"
  }
 },
 "nbformat": 4,
 "nbformat_minor": 5
}
