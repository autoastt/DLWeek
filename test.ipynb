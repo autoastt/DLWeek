{
 "cells": [
  {
   "cell_type": "code",
   "execution_count": 12,
   "metadata": {},
   "outputs": [
    {
     "name": "stderr",
     "output_type": "stream",
     "text": [
      "INFO:trading_env:loading data for ADBE...\n",
      "INFO:trading_env:got data for ADBE...\n",
      "/Users/chindanai/miniforge3/envs/dlweek2/lib/python3.8/site-packages/sklearn/preprocessing/_data.py:246: UserWarning: Numerical issues were encountered when centering the data and might not be solved. Dataset may contain too large values. You may need to prescale your features.\n",
      "  warnings.warn(\n",
      "INFO:trading_env:None\n"
     ]
    },
    {
     "name": "stdout",
     "output_type": "stream",
     "text": [
      "            open       close  ...  return_10d_lag5  return_21d_lag5\n",
      "0      31.493821   30.838949  ...              NaN              NaN\n",
      "1      31.098899   30.024111  ...              NaN              NaN\n",
      "2      30.084099   29.859142  ...              NaN              NaN\n",
      "3      30.109092   29.364239  ...              NaN              NaN\n",
      "4      29.499211   29.384233  ...              NaN              NaN\n",
      "...          ...         ...  ...              ...              ...\n",
      "5028  446.500000  447.940002  ...        -0.001581         0.001226\n",
      "5029  445.850006  450.160004  ...         0.001035        -0.000892\n",
      "5030  446.880005  446.480011  ...        -0.000648        -0.001464\n",
      "5031  442.940002  445.799988  ...        -0.001392        -0.000716\n",
      "5032  446.350006  444.679993  ...        -0.002456        -0.001819\n",
      "\n",
      "[5033 rows x 35 columns]\n",
      "<class 'pandas.core.frame.DataFrame'>\n",
      "Index: 5033 entries, 0 to 5032\n",
      "Data columns (total 40 columns):\n",
      " #   Column           Non-Null Count  Dtype  \n",
      "---  ------           --------------  -----  \n",
      " 0   returns          5032 non-null   float64\n",
      " 1   open             5033 non-null   float64\n",
      " 2   close            5033 non-null   float64\n",
      " 3   high             5033 non-null   float64\n",
      " 4   low              5033 non-null   float64\n",
      " 5   volume           5033 non-null   float64\n",
      " 6   month            5033 non-null   float64\n",
      " 7   dollar_vol       5033 non-null   float64\n",
      " 8   dollar_vol_1m    5033 non-null   float64\n",
      " 9   dollar_vol_rank  5033 non-null   float64\n",
      " 10  return_1d        5032 non-null   float64\n",
      " 11  return_5d        5028 non-null   float64\n",
      " 12  return_10d       5023 non-null   float64\n",
      " 13  return_21d       5012 non-null   float64\n",
      " 14  return_42d       4991 non-null   float64\n",
      " 15  return_63d       4970 non-null   float64\n",
      " 16  return_1d_lag1   5031 non-null   float64\n",
      " 17  return_5d_lag1   5023 non-null   float64\n",
      " 18  return_10d_lag1  5013 non-null   float64\n",
      " 19  return_21d_lag1  4991 non-null   float64\n",
      " 20  return_1d_lag2   5030 non-null   float64\n",
      " 21  return_5d_lag2   5018 non-null   float64\n",
      " 22  return_10d_lag2  5003 non-null   float64\n",
      " 23  return_21d_lag2  4970 non-null   float64\n",
      " 24  return_1d_lag3   5029 non-null   float64\n",
      " 25  return_5d_lag3   5013 non-null   float64\n",
      " 26  return_10d_lag3  4993 non-null   float64\n",
      " 27  return_21d_lag3  4949 non-null   float64\n",
      " 28  return_1d_lag4   5028 non-null   float64\n",
      " 29  return_5d_lag4   5008 non-null   float64\n",
      " 30  return_10d_lag4  4983 non-null   float64\n",
      " 31  return_21d_lag4  4928 non-null   float64\n",
      " 32  return_1d_lag5   5027 non-null   float64\n",
      " 33  return_5d_lag5   5003 non-null   float64\n",
      " 34  return_10d_lag5  4973 non-null   float64\n",
      " 35  return_21d_lag5  4907 non-null   float64\n",
      " 36  ret_2            5031 non-null   float64\n",
      " 37  ret_5            5028 non-null   float64\n",
      " 38  ret_10           5023 non-null   float64\n",
      " 39  ret_21           5012 non-null   float64\n",
      "dtypes: float64(40)\n",
      "memory usage: 1.6 MB\n"
     ]
    }
   ],
   "source": [
    "from trading_env import DataSource\n",
    "\n",
    "test = DataSource()"
   ]
  },
  {
   "cell_type": "code",
   "execution_count": 7,
   "metadata": {},
   "outputs": [
    {
     "name": "stdout",
     "output_type": "stream",
     "text": [
      "<trading_env.DataSource object at 0x16e1dfcd0>\n"
     ]
    }
   ],
   "source": [
    "print(test)"
   ]
  },
  {
   "cell_type": "code",
   "execution_count": null,
   "metadata": {},
   "outputs": [],
   "source": []
  }
 ],
 "metadata": {
  "kernelspec": {
   "display_name": "dlweek2",
   "language": "python",
   "name": "python3"
  },
  "language_info": {
   "codemirror_mode": {
    "name": "ipython",
    "version": 3
   },
   "file_extension": ".py",
   "mimetype": "text/x-python",
   "name": "python",
   "nbconvert_exporter": "python",
   "pygments_lexer": "ipython3",
   "version": "3.8.20"
  }
 },
 "nbformat": 4,
 "nbformat_minor": 2
}
