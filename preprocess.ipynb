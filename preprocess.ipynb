{
 "cells": [
  {
   "cell_type": "code",
   "execution_count": 9,
   "metadata": {},
   "outputs": [
    {
     "name": "stdout",
     "output_type": "stream",
     "text": [
      "  Ticker                  Company                  Sector\n",
      "0   ADBE               Adobe Inc.  Information Technology\n",
      "1    AMD   Advanced Micro Devices  Information Technology\n",
      "2   ABNB                   Airbnb  Consumer Discretionary\n",
      "3  GOOGL  Alphabet Inc. (Class A)  Communication Services\n",
      "4   GOOG  Alphabet Inc. (Class C)  Communication Services\n"
     ]
    }
   ],
   "source": [
    "import pandas as pd\n",
    "\n",
    "# Get NASDAQ-100 tickers & sectors from Wikipedia\n",
    "nasdaq100_url = \"https://en.wikipedia.org/wiki/NASDAQ-100\"\n",
    "nasdaq100_table = pd.read_html(nasdaq100_url, header=0)[4]  # Extract table (4th table is NASDAQ-100 list)\n",
    "\n",
    "# Keep only relevant columns\n",
    "nasdaq100_data = nasdaq100_table[['Symbol', 'Company', 'GICS Sector']]\n",
    "nasdaq100_data.columns = ['Ticker', 'Company', 'Sector']\n",
    "\n",
    "# Display first few rows\n",
    "print(nasdaq100_data.head())\n",
    "\n",
    "# Save to CSV (Optional)\n",
    "nasdaq100_data.to_csv(\"nasdaq100_tickers.csv\", index=False)\n"
   ]
  },
  {
   "cell_type": "code",
   "execution_count": 164,
   "metadata": {},
   "outputs": [],
   "source": [
    "import yfinance as yf\n",
    "\n",
    "# Load NASDAQ-100 tickers\n",
    "tickers = nasdaq100_data[\"Ticker\"].tolist()\n",
    "\n",
    "# Define time period\n",
    "start_date = \"2005-01-01\"\n",
    "end_date = \"2025-01-01\"\n",
    "\n",
    "# Create dictionary to store stock data\n",
    "stock_data = pd.DataFrame()\n",
    "OCHLV = [\"Open\",\"Close\",\"High\",\"Low\",\"Volume\"]\n",
    "# Fetch data for each stock\n",
    "for ticker in tickers:\n",
    "    try:\n",
    "        df_ = yf.download(ticker, start=start_date, end=end_date, progress=False)\n",
    "        temp = df_.reset_index().reset_index()\n",
    "        stock_df = pd.DataFrame(temp[\"Date\"])\n",
    "        \n",
    "        for u in OCHLV:\n",
    "            t = temp[u][ticker]\n",
    "            tt = pd.DataFrame({u:t})\n",
    "            stock_df = pd.concat([stock_df,tt],axis = 1)\n",
    "\n",
    "        stock_df[\"Ticker\"] = ticker  \n",
    "        stock_data = pd.concat([stock_data,stock_df])\n",
    "    except Exception as e:\n",
    "        print(f\"Error fetching data for {ticker}: {e}\")\n",
    "\n",
    "stock_data.to_csv(\"nasdaq100_stock_prices.csv\")\n"
   ]
  },
  {
   "cell_type": "code",
   "execution_count": 167,
   "metadata": {},
   "outputs": [],
   "source": [
    "## timestamp \n",
    "price_df = pd.read_csv(\"nasdaq100_stock_prices.csv\")\n",
    "price_df = price_df.merge(nasdaq100_data, on = \"Ticker\", how = \"left\")\n",
    "price_df = price_df.drop(price_df.columns[0], axis=1)\n",
    "price_df['Date'] = pd.to_datetime(price_df['Date'])\n",
    "price_df.columns = [\"date\",\"open\",\"close\",\"high\",\"low\",\"volume\",\"ticker\",\"company\",\"sector\"]\n",
    "price_df.head()\n",
    "price_df.to_csv(\"nasdaq100_stock_prices.csv\")"
   ]
  },
  {
   "cell_type": "code",
   "execution_count": 147,
   "metadata": {},
   "outputs": [],
   "source": [
    "# rolling avg dollar volume \n",
    "price_df['dollar_vol'] = price_df[['Close','Volume']].prod(axis = 1)\n",
    "price_df['dollar_vol_1m'] = (\n",
    "    price_df.groupby('Ticker')['dollar_vol']\n",
    "    .rolling(window=21, min_periods=1)  \n",
    "    .mean()\n",
    "    .reset_index(level=0, drop=True)  \n",
    ")\n",
    "price_df['dollar_vol_rank'] = (price_df.groupby(price_df['Date'])\n",
    "                             .dollar_vol_1m\n",
    "                             .rank(ascending=False))"
   ]
  },
  {
   "cell_type": "code",
   "execution_count": 156,
   "metadata": {},
   "outputs": [
    {
     "name": "stderr",
     "output_type": "stream",
     "text": [
      "C:\\Users\\tjuir\\AppData\\Local\\Temp\\ipykernel_26484\\523243952.py:22: DeprecationWarning: DataFrameGroupBy.apply operated on the grouping columns. This behavior is deprecated, and in a future version of pandas the grouping columns will be excluded from the operation. Either pass `include_groups=False` to exclude the groupings or explicitly select the grouping columns after groupby to silence this warning.\n",
      "  .apply(lambda x: ta.volatility.AverageTrueRange(high=x['High'], low=x['Low'], close=x['Close']).average_true_range())\n"
     ]
    }
   ],
   "source": [
    "import ta \n",
    "\n",
    "price_df['rsi'] = price_df.groupby('Ticker')['Close'].transform(lambda x: ta.momentum.RSIIndicator(close=x).rsi())\n",
    "\n",
    "# MACD Calculation (Per Ticker)\n",
    "price_df['macd'] = price_df.groupby('Ticker')['Close'].transform(lambda x: ta.trend.MACD(close=x).macd())\n",
    "\n",
    "# Bollinger Bands Calculation (Upper, Middle, Lower)\n",
    "def compute_bbands(x):\n",
    "    bb = ta.volatility.BollingerBands(close=x)\n",
    "    return pd.DataFrame({\n",
    "        'bb_upper': bb.bollinger_hband(),\n",
    "        'bb_lower': bb.bollinger_lband()\n",
    "    })\n",
    "\n",
    "bbands_df = price_df.groupby('Ticker')['Close'].apply(compute_bbands).reset_index(level=0, drop=True)\n",
    "price_df = pd.concat([price_df, bbands_df], axis=1)  # Merge back\n",
    "\n",
    "# ATR Calculation (Per Ticker)\n",
    "price_df['atr'] = (\n",
    "    price_df.groupby('Ticker')\n",
    "    .apply(lambda x: ta.volatility.AverageTrueRange(high=x['High'], low=x['Low'], close=x['Close']).average_true_range())\n",
    "    .reset_index(level=0, drop=True)\n",
    ")\n"
   ]
  },
  {
   "cell_type": "code",
   "execution_count": 155,
   "metadata": {},
   "outputs": [],
   "source": [
    "price_df.to_csv(\"nasdaq100_stock_prices.csv\")"
   ]
  }
 ],
 "metadata": {
  "kernelspec": {
   "display_name": "Python 3",
   "language": "python",
   "name": "python3"
  },
  "language_info": {
   "codemirror_mode": {
    "name": "ipython",
    "version": 3
   },
   "file_extension": ".py",
   "mimetype": "text/x-python",
   "name": "python",
   "nbconvert_exporter": "python",
   "pygments_lexer": "ipython3",
   "version": "3.12.7"
  }
 },
 "nbformat": 4,
 "nbformat_minor": 2
}
