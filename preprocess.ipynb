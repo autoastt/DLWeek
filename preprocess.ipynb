{
 "cells": [
  {
   "cell_type": "code",
   "execution_count": 9,
   "metadata": {},
   "outputs": [
    {
     "name": "stdout",
     "output_type": "stream",
     "text": [
      "  Ticker                  Company                  Sector\n",
      "0   ADBE               Adobe Inc.  Information Technology\n",
      "1    AMD   Advanced Micro Devices  Information Technology\n",
      "2   ABNB                   Airbnb  Consumer Discretionary\n",
      "3  GOOGL  Alphabet Inc. (Class A)  Communication Services\n",
      "4   GOOG  Alphabet Inc. (Class C)  Communication Services\n"
     ]
    }
   ],
   "source": [
    "import pandas as pd\n",
    "\n",
    "# Get NASDAQ-100 tickers & sectors from Wikipedia\n",
    "nasdaq100_url = \"https://en.wikipedia.org/wiki/NASDAQ-100\"\n",
    "nasdaq100_table = pd.read_html(nasdaq100_url, header=0)[4]  # Extract table (4th table is NASDAQ-100 list)\n",
    "\n",
    "# Keep only relevant columns\n",
    "nasdaq100_data = nasdaq100_table[['Symbol', 'Company', 'GICS Sector']]\n",
    "nasdaq100_data.columns = ['Ticker', 'Company', 'Sector']\n",
    "\n",
    "# Display first few rows\n",
    "print(nasdaq100_data.head())\n",
    "\n",
    "# Save to CSV (Optional)\n",
    "nasdaq100_data.to_csv(\"nasdaq100_tickers.csv\", index=False)\n"
   ]
  },
  {
   "cell_type": "code",
   "execution_count": null,
   "metadata": {},
   "outputs": [],
   "source": [
    "import yfinance as yf\n",
    "\n",
    "# Load NASDAQ-100 tickers\n",
    "tickers = nasdaq100_data[\"Ticker\"].tolist()\n",
    "\n",
    "# Define time period\n",
    "start_date = \"2005-01-01\"\n",
    "end_date = \"2025-01-01\"\n",
    "\n",
    "# Create dictionary to store stock data\n",
    "stock_data = pd.DataFrame()\n",
    "OCHLV = [\"Open\",\"Close\",\"High\",\"Low\",\"Volume\"]\n",
    "# Fetch data for each stock\n",
    "for ticker in tickers:\n",
    "    try:\n",
    "        df_ = yf.download(ticker, start=start_date, end=end_date, progress=False)\n",
    "        temp = df_.reset_index().reset_index()\n",
    "        stock_df = pd.DataFrame(temp[\"Date\"])\n",
    "        \n",
    "        for u in OCHLV:\n",
    "            t = temp[u][ticker]\n",
    "            tt = pd.DataFrame({u:t})\n",
    "            stock_df = pd.concat([stock_df,tt],axis = 1)\n",
    "\n",
    "        stock_df[\"Ticker\"] = ticker  # Add ticker column\n",
    "        stock_data = pd.concat([stock_data,stock_df])\n",
    "    except Exception as e:\n",
    "        print(f\"Error fetching data for {ticker}: {e}\")\n",
    "\n",
    "stock_data.to_csv(\"nasdaq100_stock_prices.csv\")\n"
   ]
  }
 ],
 "metadata": {
  "kernelspec": {
   "display_name": "Python 3",
   "language": "python",
   "name": "python3"
  },
  "language_info": {
   "codemirror_mode": {
    "name": "ipython",
    "version": 3
   },
   "file_extension": ".py",
   "mimetype": "text/x-python",
   "name": "python",
   "nbconvert_exporter": "python",
   "pygments_lexer": "ipython3",
   "version": "3.12.7"
  }
 },
 "nbformat": 4,
 "nbformat_minor": 2
}
